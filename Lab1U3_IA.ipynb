{
 "cells": [
  {
   "cell_type": "markdown",
   "id": "03ab63bd",
   "metadata": {},
   "source": [
    "# Importacion de librerias"
   ]
  },
  {
   "cell_type": "code",
   "execution_count": 1,
   "id": "624a88b4",
   "metadata": {},
   "outputs": [],
   "source": [
    "import os #Nos permite realizar operaciones como crear carpeta, listas contenidos etc. \n",
    "import matplotlib.pyplot as plt #Permitirá visualizar las imágenes\n",
    "from keras.models import Sequential #Keras para procesamiento de imagen\n",
    "from keras.utils import to_categorical #Para categorizar variables\n",
    "from tensorflow.keras import layers #Importación de librerias\n",
    "import pathlib #manipular rutas de sistemas de archivos\n",
    "import numpy as np # manejo de datos extremadamente rápido. \n",
    "import tensorflow as TF #crear gráficos de flujo de datos,\n",
    "from sklearn import preprocessing  #proporciona varias funciones de utilidad comunes\n",
    "#para realizar operaciones simples con imágenes como: Abrir y guardar imágenes.\n",
    "#Dibujar formas simples en imágenes. Escribir en imágenes.\n",
    "import cv2\n",
    "os.environ['TF_CPP_MIN_LOG_LEVEL'] = '3' #establecer variables de entorno\n",
    "import shutil #Mueve de forma recursiva un archivo o directorio\n",
    "import glob #devuelve una lista con las entradas \n",
    "#Pandas nos permite obtener columnas o filas de nuestros datos de forma muy fácil e intuitiva.\n",
    "import pandas as pd\n",
    "import seaborn as sn #visualización de datos para Python\n",
    "#Procesamiento de imagenes\n",
    "from tensorflow.keras.utils import img_to_array,  array_to_img, img_to_array, load_img \n",
    "#abrir, manipular y guardar muchos formatos de archivo de imagen diferentes.\n",
    "from  PIL  import Image\n",
    "#Romver el fondo\n",
    "from rembg import remove\n",
    "# procesamiento de imagen\n",
    "from sklearn.preprocessing import MinMaxScaler\n",
    "import h5py\n",
    "from time import sleep"
   ]
  },
  {
   "cell_type": "code",
   "execution_count": null,
   "id": "3dec4fb0",
   "metadata": {},
   "outputs": [],
   "source": []
  }
 ],
 "metadata": {
  "kernelspec": {
   "display_name": "Python 3 (ipykernel)",
   "language": "python",
   "name": "python3"
  },
  "language_info": {
   "codemirror_mode": {
    "name": "ipython",
    "version": 3
   },
   "file_extension": ".py",
   "mimetype": "text/x-python",
   "name": "python",
   "nbconvert_exporter": "python",
   "pygments_lexer": "ipython3",
   "version": "3.9.12"
  }
 },
 "nbformat": 4,
 "nbformat_minor": 5
}
